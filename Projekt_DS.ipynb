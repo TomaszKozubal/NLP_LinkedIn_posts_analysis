{
 "cells": [
  {
   "cell_type": "markdown",
   "id": "7163d7d1-13e4-41ea-bda1-bae2fda37b25",
   "metadata": {},
   "source": [
    "## Porządkowanie danych + EDA"
   ]
  },
  {
   "cell_type": "markdown",
   "id": "470726d3-cc82-4764-816f-f1ff06178a77",
   "metadata": {},
   "source": [
    "## Abstrakt projektu"
   ]
  },
  {
   "cell_type": "markdown",
   "id": "90db3d06-8f19-4a94-9854-aff982c64ebe",
   "metadata": {},
   "source": []
  },
  {
   "cell_type": "markdown",
   "id": "b40cae36-079e-4fa7-904b-f0ab63a09854",
   "metadata": {},
   "source": [
    "## Library import"
   ]
  },
  {
   "cell_type": "code",
   "execution_count": 2,
   "id": "4f351253-5147-4a41-b89f-25c53e6b2f8a",
   "metadata": {},
   "outputs": [],
   "source": [
    "import pandas as pd\n",
    "from sklearn.preprocessing import LabelEncoder\n",
    "from datetime import datetime\n",
    "import langid"
   ]
  },
  {
   "cell_type": "markdown",
   "id": "7719ba1a-f134-49ce-a292-a6a54fcec915",
   "metadata": {},
   "source": [
    "## Data"
   ]
  },
  {
   "cell_type": "code",
   "execution_count": 3,
   "id": "8b35a842-5069-4eb8-ac86-edf0238ecb08",
   "metadata": {},
   "outputs": [],
   "source": [
    "still = pd.read_csv(\"/Users/tomaszkozubal/Documents/Nauka/Data Science - podyplomówka/DS_project_data/processed_data/df_still.csv\")\n",
    "balluf = pd.read_csv(\"/Users/tomaszkozubal/Documents/Nauka/Data Science - podyplomówka/DS_project_data/processed_data/df_balluf.csv\")\n",
    "orange = pd.read_csv(\"/Users/tomaszkozubal/Documents/Nauka/Data Science - podyplomówka/DS_project_data/processed_data/df_orange.csv\")\n",
    "capgemini = pd.read_csv(\"/Users/tomaszkozubal/Documents/Nauka/Data Science - podyplomówka/DS_project_data/processed_data/df_capgemini.csv\")\n",
    "pmi = pd.read_csv(\"/Users/tomaszkozubal/Documents/Nauka/Data Science - podyplomówka/DS_project_data/processed_data/df_pmi.csv\")\n",
    "bosch = pd.read_csv(\"/Users/tomaszkozubal/Documents/Nauka/Data Science - podyplomówka/DS_project_data/processed_data/df_bosch.csv\")"
   ]
  },
  {
   "cell_type": "code",
   "execution_count": 4,
   "id": "b194a753-2e1b-452c-92c8-c3095a7ac599",
   "metadata": {
    "scrolled": true
   },
   "outputs": [],
   "source": [
    "dfs = {\n",
    "    \"still\": still,\n",
    "    \"balluf\": balluf,\n",
    "    \"orange\": orange,\n",
    "    \"pmi\": pmi,\n",
    "    \"bosch\": bosch\n",
    "}"
   ]
  },
  {
   "cell_type": "code",
   "execution_count": 5,
   "id": "7b50564d-12e1-47ab-bb61-b48bb05ba2e4",
   "metadata": {},
   "outputs": [
    {
     "name": "stdout",
     "output_type": "stream",
     "text": [
      "still: (1329, 17)\n",
      "balluf: (4892, 17)\n",
      "orange: (5655, 17)\n",
      "pmi: (4456, 17)\n",
      "bosch: (9798, 17)\n"
     ]
    }
   ],
   "source": [
    "for name, df in dfs.items():\n",
    "    print(f\"{name}: {df.shape}\")"
   ]
  },
  {
   "cell_type": "markdown",
   "id": "13c6da59-280f-45bd-aca3-218e33620ba5",
   "metadata": {},
   "source": [
    "## Clearing dataframes"
   ]
  },
  {
   "cell_type": "code",
   "execution_count": 8,
   "id": "1a679501-535c-4f88-8ce2-4946eb5a8d2a",
   "metadata": {},
   "outputs": [],
   "source": [
    "class DataProcessor:\n",
    "\n",
    "    def __init__(self, df: pd.DataFrame):\n",
    "        self.df = df\n",
    "        self.df_lang = None\n",
    "        self.df_pl = None\n",
    "        self.df_eng = None\n",
    "\n",
    "    #choose specific columns\n",
    "    def clean(self):\n",
    "        required_cols = [\"comment\", \"published_at\", \"details_type\", \"likes\", \"comments\", \n",
    "                         \"estimated_covearage\", \"user_network_at_stats_check_date\", \"language\"]\n",
    "        self.df = self.df = self.df[required_cols]\n",
    "        self.df = self.df.dropna(subset=[\"estimated_covearage\"])\n",
    "\n",
    "    #look for NaNs and update language using the langid library\n",
    "    def lang_processing(self):\n",
    "    \n",
    "        for index, row in self.df.iterrows():\n",
    "            \n",
    "            if row[\"language\"] in [\"pl\", \"en\"]:\n",
    "                continue\n",
    "            \n",
    "            elif pd.isna(row['language']):\n",
    "                lang, _ = langid.classify(row['comment'])\n",
    "                self.df.at[index, 'language'] = lang\n",
    "    \n",
    "        self.df = self.df[self.df[\"language\"].isin([\"en\"])]\n",
    "\n",
    "    #change date type \n",
    "    def time_change(self): \n",
    "        self.df['published_at'] = pd.to_datetime(self.df['published_at']).astype('int64') // 10**9\n",
    "\n",
    "    #reset index\n",
    "    def reset(self):\n",
    "        self.df.reset_index(drop=True, inplace=True)\n",
    "    \n",
    "    def process_all(self):\n",
    "        self.clean()  \n",
    "        self.lang_processing()\n",
    "        self.time_change()\n",
    "        self.reset()\n",
    "        \n",
    "        return self.df"
   ]
  },
  {
   "cell_type": "code",
   "execution_count": 9,
   "id": "0db69d5a-3e58-45e2-a322-14dd36d5bade",
   "metadata": {},
   "outputs": [],
   "source": [
    "processed_dfs = {}\n",
    "\n",
    "for name, df in dfs.items():\n",
    "    processor = DataProcessor(df)\n",
    "    processed_df = processor.process_all()\n",
    "    processed_dfs[name] = processed_df"
   ]
  },
  {
   "cell_type": "code",
   "execution_count": 10,
   "id": "5481c4bb-281d-4b0a-8839-dc4d19b3333a",
   "metadata": {},
   "outputs": [
    {
     "name": "stdout",
     "output_type": "stream",
     "text": [
      "still:\n",
      "language\n",
      "en    3\n",
      "Name: count, dtype: int64\n",
      "balluf:\n",
      "language\n",
      "en    2753\n",
      "Name: count, dtype: int64\n",
      "orange:\n",
      "language\n",
      "en    65\n",
      "Name: count, dtype: int64\n",
      "pmi:\n",
      "language\n",
      "en    2536\n",
      "Name: count, dtype: int64\n",
      "bosch:\n",
      "language\n",
      "en    3901\n",
      "Name: count, dtype: int64\n"
     ]
    }
   ],
   "source": [
    "for name, df in processed_dfs.items():\n",
    "    print(f\"{name}:\")\n",
    "    print(df[\"language\"].value_counts())"
   ]
  },
  {
   "cell_type": "markdown",
   "id": "3051e855-fb57-4871-a48f-f55e5d9f98a4",
   "metadata": {},
   "source": [
    "### Choosing dataframes which are \"en\" abundant"
   ]
  },
  {
   "cell_type": "code",
   "execution_count": 11,
   "id": "b27bd000-88e7-44f1-91c9-c1d70411cb10",
   "metadata": {},
   "outputs": [],
   "source": [
    "selected_keys = [\"pmi\", \"bosch\", \"balluf\"]\n",
    "en_clients = {key: processed_dfs[key] for key in selected_keys}"
   ]
  },
  {
   "cell_type": "code",
   "execution_count": 12,
   "id": "4499b1d5-a0b4-4f09-884f-47212eaa7b0b",
   "metadata": {},
   "outputs": [
    {
     "name": "stdout",
     "output_type": "stream",
     "text": [
      "pmi: (2536, 8)\n",
      "bosch: (3901, 8)\n",
      "balluf: (2753, 8)\n"
     ]
    }
   ],
   "source": [
    "for name, df in en_clients.items():\n",
    "    print(f\"{name}: {df.shape}\")"
   ]
  },
  {
   "cell_type": "markdown",
   "id": "8a1fc4e6-6004-41d9-aafb-4201da0b7545",
   "metadata": {},
   "source": [
    "### Final check if there are any empty or NaN cells "
   ]
  },
  {
   "cell_type": "code",
   "execution_count": 13,
   "id": "f45e3341-e392-4635-a2bf-856d45dd7b93",
   "metadata": {},
   "outputs": [
    {
     "name": "stdout",
     "output_type": "stream",
     "text": [
      "pmi: 0 rows have NaN or empty string\n",
      "bosch: 0 rows have NaN or empty string\n",
      "balluf: 0 rows have NaN or empty string\n"
     ]
    }
   ],
   "source": [
    "for name, df in en_clients.items():\n",
    "    mask = df.isna() | (df == \"\")\n",
    "    rows_with_empty_or_nan = mask.any(axis=1)\n",
    "    count = rows_with_empty_or_nan.sum()\n",
    "    print(f\"{name}: {count} rows have NaN or empty string\")"
   ]
  },
  {
   "cell_type": "code",
   "execution_count": 14,
   "id": "56ada804-0c9c-4445-8f22-0758abc5061e",
   "metadata": {},
   "outputs": [
    {
     "data": {
      "text/html": [
       "<div>\n",
       "<style scoped>\n",
       "    .dataframe tbody tr th:only-of-type {\n",
       "        vertical-align: middle;\n",
       "    }\n",
       "\n",
       "    .dataframe tbody tr th {\n",
       "        vertical-align: top;\n",
       "    }\n",
       "\n",
       "    .dataframe thead th {\n",
       "        text-align: right;\n",
       "    }\n",
       "</style>\n",
       "<table border=\"1\" class=\"dataframe\">\n",
       "  <thead>\n",
       "    <tr style=\"text-align: right;\">\n",
       "      <th></th>\n",
       "      <th>comment</th>\n",
       "      <th>published_at</th>\n",
       "      <th>details_type</th>\n",
       "      <th>likes</th>\n",
       "      <th>comments</th>\n",
       "      <th>estimated_covearage</th>\n",
       "      <th>user_network_at_stats_check_date</th>\n",
       "      <th>language</th>\n",
       "    </tr>\n",
       "  </thead>\n",
       "  <tbody>\n",
       "    <tr>\n",
       "      <th>0</th>\n",
       "      <td>Imagine a workplace where nothing is urgent......</td>\n",
       "      <td>1706082416</td>\n",
       "      <td>NATIVE_GALLERY</td>\n",
       "      <td>56.0</td>\n",
       "      <td>12.0</td>\n",
       "      <td>2615.0</td>\n",
       "      <td>1758.0</td>\n",
       "      <td>en</td>\n",
       "    </tr>\n",
       "    <tr>\n",
       "      <th>1</th>\n",
       "      <td>Valentine's Day confession...🧡I absolutely lov...</td>\n",
       "      <td>1707893450</td>\n",
       "      <td>NATIVE_GALLERY</td>\n",
       "      <td>82.0</td>\n",
       "      <td>5.0</td>\n",
       "      <td>2643.0</td>\n",
       "      <td>982.0</td>\n",
       "      <td>en</td>\n",
       "    </tr>\n",
       "    <tr>\n",
       "      <th>2</th>\n",
       "      <td>If you know “Co mi zrobisz jak mnie złapiesz”,...</td>\n",
       "      <td>1710949648</td>\n",
       "      <td>LINK</td>\n",
       "      <td>1.0</td>\n",
       "      <td>0.0</td>\n",
       "      <td>255.0</td>\n",
       "      <td>658.0</td>\n",
       "      <td>en</td>\n",
       "    </tr>\n",
       "    <tr>\n",
       "      <th>3</th>\n",
       "      <td>Hey there! I just wanted to share some excitin...</td>\n",
       "      <td>1704894218</td>\n",
       "      <td>LINK</td>\n",
       "      <td>31.0</td>\n",
       "      <td>2.0</td>\n",
       "      <td>1144.0</td>\n",
       "      <td>769.0</td>\n",
       "      <td>en</td>\n",
       "    </tr>\n",
       "    <tr>\n",
       "      <th>4</th>\n",
       "      <td>➡️ Navigating challenges is easier with a stro...</td>\n",
       "      <td>1704355230</td>\n",
       "      <td>NATIVE_FILE</td>\n",
       "      <td>7.0</td>\n",
       "      <td>0.0</td>\n",
       "      <td>655.0</td>\n",
       "      <td>1373.0</td>\n",
       "      <td>en</td>\n",
       "    </tr>\n",
       "    <tr>\n",
       "      <th>...</th>\n",
       "      <td>...</td>\n",
       "      <td>...</td>\n",
       "      <td>...</td>\n",
       "      <td>...</td>\n",
       "      <td>...</td>\n",
       "      <td>...</td>\n",
       "      <td>...</td>\n",
       "      <td>...</td>\n",
       "    </tr>\n",
       "    <tr>\n",
       "      <th>2531</th>\n",
       "      <td>Can one employee be worth more than several ot...</td>\n",
       "      <td>1737716332</td>\n",
       "      <td>LINK</td>\n",
       "      <td>1.0</td>\n",
       "      <td>0.0</td>\n",
       "      <td>245.0</td>\n",
       "      <td>629.0</td>\n",
       "      <td>en</td>\n",
       "    </tr>\n",
       "    <tr>\n",
       "      <th>2532</th>\n",
       "      <td>What a night it was! Last Friday, on January...</td>\n",
       "      <td>1737716392</td>\n",
       "      <td>VIDEO</td>\n",
       "      <td>2.0</td>\n",
       "      <td>0.0</td>\n",
       "      <td>270.0</td>\n",
       "      <td>629.0</td>\n",
       "      <td>en</td>\n",
       "    </tr>\n",
       "    <tr>\n",
       "      <th>2533</th>\n",
       "      <td>Whether it’s about boosting your career, gaini...</td>\n",
       "      <td>1737716431</td>\n",
       "      <td>LINK</td>\n",
       "      <td>1.0</td>\n",
       "      <td>0.0</td>\n",
       "      <td>245.0</td>\n",
       "      <td>629.0</td>\n",
       "      <td>en</td>\n",
       "    </tr>\n",
       "    <tr>\n",
       "      <th>2534</th>\n",
       "      <td>Helósztok! Hogy vagy? 🙂  Did you know how to a...</td>\n",
       "      <td>1737716814</td>\n",
       "      <td>NATIVE_FILE</td>\n",
       "      <td>13.0</td>\n",
       "      <td>0.0</td>\n",
       "      <td>915.0</td>\n",
       "      <td>1687.0</td>\n",
       "      <td>en</td>\n",
       "    </tr>\n",
       "    <tr>\n",
       "      <th>2535</th>\n",
       "      <td>What a night it was! Last Friday, on January...</td>\n",
       "      <td>1737723196</td>\n",
       "      <td>VIDEO</td>\n",
       "      <td>19.0</td>\n",
       "      <td>3.0</td>\n",
       "      <td>741.0</td>\n",
       "      <td>332.0</td>\n",
       "      <td>en</td>\n",
       "    </tr>\n",
       "  </tbody>\n",
       "</table>\n",
       "<p>2536 rows × 8 columns</p>\n",
       "</div>"
      ],
      "text/plain": [
       "                                                comment  published_at  \\\n",
       "0     Imagine a workplace where nothing is urgent......    1706082416   \n",
       "1     Valentine's Day confession...🧡I absolutely lov...    1707893450   \n",
       "2     If you know “Co mi zrobisz jak mnie złapiesz”,...    1710949648   \n",
       "3     Hey there! I just wanted to share some excitin...    1704894218   \n",
       "4     ➡️ Navigating challenges is easier with a stro...    1704355230   \n",
       "...                                                 ...           ...   \n",
       "2531  Can one employee be worth more than several ot...    1737716332   \n",
       "2532    What a night it was! Last Friday, on January...    1737716392   \n",
       "2533  Whether it’s about boosting your career, gaini...    1737716431   \n",
       "2534  Helósztok! Hogy vagy? 🙂  Did you know how to a...    1737716814   \n",
       "2535    What a night it was! Last Friday, on January...    1737723196   \n",
       "\n",
       "        details_type  likes  comments  estimated_covearage  \\\n",
       "0     NATIVE_GALLERY   56.0      12.0               2615.0   \n",
       "1     NATIVE_GALLERY   82.0       5.0               2643.0   \n",
       "2               LINK    1.0       0.0                255.0   \n",
       "3               LINK   31.0       2.0               1144.0   \n",
       "4        NATIVE_FILE    7.0       0.0                655.0   \n",
       "...              ...    ...       ...                  ...   \n",
       "2531            LINK    1.0       0.0                245.0   \n",
       "2532           VIDEO    2.0       0.0                270.0   \n",
       "2533            LINK    1.0       0.0                245.0   \n",
       "2534     NATIVE_FILE   13.0       0.0                915.0   \n",
       "2535           VIDEO   19.0       3.0                741.0   \n",
       "\n",
       "      user_network_at_stats_check_date language  \n",
       "0                               1758.0       en  \n",
       "1                                982.0       en  \n",
       "2                                658.0       en  \n",
       "3                                769.0       en  \n",
       "4                               1373.0       en  \n",
       "...                                ...      ...  \n",
       "2531                             629.0       en  \n",
       "2532                             629.0       en  \n",
       "2533                             629.0       en  \n",
       "2534                            1687.0       en  \n",
       "2535                             332.0       en  \n",
       "\n",
       "[2536 rows x 8 columns]"
      ]
     },
     "execution_count": 14,
     "metadata": {},
     "output_type": "execute_result"
    }
   ],
   "source": [
    "en_clients[\"pmi\"]"
   ]
  },
  {
   "cell_type": "code",
   "execution_count": 15,
   "id": "6b6c97f3-d2f6-48de-b409-15eb93cd4272",
   "metadata": {},
   "outputs": [],
   "source": [
    "en_clients[\"pmi\"].to_csv('pmi_raw.csv', index=True) "
   ]
  },
  {
   "cell_type": "code",
   "execution_count": null,
   "id": "1d7ed685-c32e-44f9-b77a-9b7801ba06be",
   "metadata": {},
   "outputs": [],
   "source": []
  }
 ],
 "metadata": {
  "kernelspec": {
   "display_name": "Python 3.10",
   "language": "python",
   "name": "python3.10"
  },
  "language_info": {
   "codemirror_mode": {
    "name": "ipython",
    "version": 3
   },
   "file_extension": ".py",
   "mimetype": "text/x-python",
   "name": "python",
   "nbconvert_exporter": "python",
   "pygments_lexer": "ipython3",
   "version": "3.10.9"
  }
 },
 "nbformat": 4,
 "nbformat_minor": 5
}
